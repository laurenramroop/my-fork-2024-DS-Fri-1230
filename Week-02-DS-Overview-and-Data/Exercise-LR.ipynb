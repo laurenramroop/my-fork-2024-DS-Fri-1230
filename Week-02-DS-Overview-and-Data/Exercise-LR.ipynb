{
 "cells": [
  {
   "cell_type": "markdown",
   "metadata": {},
   "source": [
    "# Fall 2024 Data Science Track: Week 2 - Data Cleaning Exercise"
   ]
  },
  {
   "cell_type": "markdown",
   "metadata": {},
   "source": [
    "## Packages, Packages, Packages!\n",
    "\n",
    "Import *all* the things here! You need the standard stuff: `pandas` and `numpy`.\n",
    "\n",
    "If you got more stuff you want to use, add them here too. 🙂"
   ]
  },
  {
   "cell_type": "code",
   "execution_count": 1,
   "metadata": {},
   "outputs": [],
   "source": [
    "# Import here.\n",
    "import numpy as np\n",
    "import pandas as pd\n",
    "\n"
   ]
  },
  {
   "cell_type": "markdown",
   "metadata": {},
   "source": [
    "## Introduction\n",
    "\n",
    "With the packages out of the way, now you will be working with the following data sets:\n",
    "\n",
    "* `food_coded.csv`: [Food choices](https://www.kaggle.com/datasets/borapajo/food-choices?select=food_coded.csv) from Kaggle\n",
    "* `Ask A Manager Salary Survey 2021 (Responses) - Form Responses 1.tsv`: [Ask A Manager Salary Survey 2021 (Responses)](https://docs.google.com/spreadsheets/d/1IPS5dBSGtwYVbjsfbaMCYIWnOuRmJcbequohNxCyGVw/view?&gid=1625408792) as *Tab Separated Values (.tsv)* from Google Docs\n",
    "\n",
    "Each one poses different challenges. But you’ll―of course―overcome them with what you learned in class! 😉"
   ]
  },
  {
   "cell_type": "markdown",
   "metadata": {},
   "source": [
    "## Food Choices Data Set"
   ]
  },
  {
   "cell_type": "markdown",
   "metadata": {},
   "source": [
    "### Load the Data"
   ]
  },
  {
   "cell_type": "code",
   "execution_count": 2,
   "metadata": {},
   "outputs": [],
   "source": [
    "# Load the Food choices data set into a variable (e.g., df_food).\n",
    "\n",
    "food_data_set_path = 'data/food_coded.csv'\n",
    "\n",
    "df_food = pd.read_csv(food_data_set_path)"
   ]
  },
  {
   "cell_type": "markdown",
   "metadata": {},
   "source": [
    "### Explore the Data"
   ]
  },
  {
   "cell_type": "markdown",
   "metadata": {},
   "source": [
    "How much data did you just load?"
   ]
  },
  {
   "cell_type": "code",
   "execution_count": 3,
   "metadata": {},
   "outputs": [
    {
     "name": "stdout",
     "output_type": "stream",
     "text": [
      "GPA                 123\n",
      "Gender              125\n",
      "breakfast           125\n",
      "calories_chicken    125\n",
      "calories_day        106\n",
      "                   ... \n",
      "type_sports          99\n",
      "veggies_day         125\n",
      "vitamins            125\n",
      "waffle_calories     125\n",
      "weight              123\n",
      "Length: 61, dtype: int64\n"
     ]
    }
   ],
   "source": [
    "# Count by hand. (lol kidding)\n",
    "row_count = df_food.count()\n",
    "print(row_count)"
   ]
  },
  {
   "cell_type": "markdown",
   "metadata": {},
   "source": [
    "What are the columns and their types in this data set?"
   ]
  },
  {
   "cell_type": "code",
   "execution_count": 10,
   "metadata": {},
   "outputs": [
    {
     "name": "stdout",
     "output_type": "stream",
     "text": [
      "GPA                  object\n",
      "Gender                int64\n",
      "breakfast             int64\n",
      "calories_chicken      int64\n",
      "calories_day        float64\n",
      "                     ...   \n",
      "type_sports          object\n",
      "veggies_day           int64\n",
      "vitamins              int64\n",
      "waffle_calories       int64\n",
      "weight               object\n",
      "Length: 61, dtype: object\n",
      "<class 'pandas.core.frame.DataFrame'>\n",
      "RangeIndex: 125 entries, 0 to 124\n",
      "Data columns (total 61 columns):\n",
      " #   Column                        Non-Null Count  Dtype  \n",
      "---  ------                        --------------  -----  \n",
      " 0   GPA                           123 non-null    object \n",
      " 1   Gender                        125 non-null    int64  \n",
      " 2   breakfast                     125 non-null    int64  \n",
      " 3   calories_chicken              125 non-null    int64  \n",
      " 4   calories_day                  106 non-null    float64\n",
      " 5   calories_scone                124 non-null    float64\n",
      " 6   coffee                        125 non-null    int64  \n",
      " 7   comfort_food                  124 non-null    object \n",
      " 8   comfort_food_reasons          123 non-null    object \n",
      " 9   comfort_food_reasons_coded    106 non-null    float64\n",
      " 10  cook                          122 non-null    float64\n",
      " 11  comfort_food_reasons_coded.1  125 non-null    int64  \n",
      " 12  cuisine                       108 non-null    float64\n",
      " 13  diet_current                  124 non-null    object \n",
      " 14  diet_current_coded            125 non-null    int64  \n",
      " 15  drink                         123 non-null    float64\n",
      " 16  eating_changes                122 non-null    object \n",
      " 17  eating_changes_coded          125 non-null    int64  \n",
      " 18  eating_changes_coded1         125 non-null    int64  \n",
      " 19  eating_out                    125 non-null    int64  \n",
      " 20  employment                    116 non-null    float64\n",
      " 21  ethnic_food                   125 non-null    int64  \n",
      " 22  exercise                      112 non-null    float64\n",
      " 23  father_education              124 non-null    float64\n",
      " 24  father_profession             122 non-null    object \n",
      " 25  fav_cuisine                   123 non-null    object \n",
      " 26  fav_cuisine_coded             125 non-null    int64  \n",
      " 27  fav_food                      123 non-null    float64\n",
      " 28  food_childhood                124 non-null    object \n",
      " 29  fries                         125 non-null    int64  \n",
      " 30  fruit_day                     125 non-null    int64  \n",
      " 31  grade_level                   125 non-null    int64  \n",
      " 32  greek_food                    125 non-null    int64  \n",
      " 33  healthy_feeling               125 non-null    int64  \n",
      " 34  healthy_meal                  124 non-null    object \n",
      " 35  ideal_diet                    124 non-null    object \n",
      " 36  ideal_diet_coded              125 non-null    int64  \n",
      " 37  income                        124 non-null    float64\n",
      " 38  indian_food                   125 non-null    int64  \n",
      " 39  italian_food                  125 non-null    int64  \n",
      " 40  life_rewarding                124 non-null    float64\n",
      " 41  marital_status                124 non-null    float64\n",
      " 42  meals_dinner_friend           122 non-null    object \n",
      " 43  mother_education              122 non-null    float64\n",
      " 44  mother_profession             123 non-null    object \n",
      " 45  nutritional_check             125 non-null    int64  \n",
      " 46  on_off_campus                 124 non-null    float64\n",
      " 47  parents_cook                  125 non-null    int64  \n",
      " 48  pay_meal_out                  125 non-null    int64  \n",
      " 49  persian_food                  124 non-null    float64\n",
      " 50  self_perception_weight        124 non-null    float64\n",
      " 51  soup                          124 non-null    float64\n",
      " 52  sports                        123 non-null    float64\n",
      " 53  thai_food                     125 non-null    int64  \n",
      " 54  tortilla_calories             124 non-null    float64\n",
      " 55  turkey_calories               125 non-null    int64  \n",
      " 56  type_sports                   99 non-null     object \n",
      " 57  veggies_day                   125 non-null    int64  \n",
      " 58  vitamins                      125 non-null    int64  \n",
      " 59  waffle_calories               125 non-null    int64  \n",
      " 60  weight                        123 non-null    object \n",
      "dtypes: float64(20), int64(27), object(14)\n",
      "memory usage: 59.7+ KB\n",
      "None\n"
     ]
    }
   ],
   "source": [
    "# Show the column names and their types.\n",
    "print(df_food.dtypes)\n",
    "print(df_food.info())\n"
   ]
  },
  {
   "cell_type": "markdown",
   "metadata": {},
   "source": [
    "### Clean the Data\n",
    "\n",
    "Perhaps we’d like to know more another day, but the team is really interested in just the relationship between calories (`calories_day`) and weight. …and maybe gender."
   ]
  },
  {
   "cell_type": "markdown",
   "metadata": {},
   "source": [
    "Can you remove the other columns?"
   ]
  },
  {
   "cell_type": "code",
   "execution_count": 20,
   "metadata": {},
   "outputs": [
    {
     "name": "stdout",
     "output_type": "stream",
     "text": [
      "     calories_day                    weight\n",
      "0             NaN                       187\n",
      "1             3.0                       155\n",
      "2             4.0  I'm not answering this. \n",
      "3             3.0             Not sure, 240\n",
      "4             2.0                       190\n",
      "..            ...                       ...\n",
      "120           4.0                       156\n",
      "121           2.0                       180\n",
      "122           NaN                       120\n",
      "123           4.0                       135\n",
      "124           NaN                       135\n",
      "\n",
      "[125 rows x 2 columns]\n"
     ]
    },
    {
     "data": {
      "text/plain": [
       "calories_day  weight                  \n",
       "3.0           140                         6\n",
       "              185                         5\n",
       "              150                         5\n",
       "              125                         5\n",
       "              155                         4\n",
       "                                         ..\n",
       "              137                         1\n",
       "              138                         1\n",
       "2.0           105                         1\n",
       "3.0           160                         1\n",
       "4.0           I'm not answering this.     1\n",
       "Name: count, Length: 67, dtype: int64"
      ]
     },
     "execution_count": 20,
     "metadata": {},
     "output_type": "execute_result"
    }
   ],
   "source": [
    "# Remove ‘em.\n",
    "\n",
    "# Keep these columns\n",
    "columns_to_keep = ['calories_day', 'weight']\n",
    "\n",
    "# Only have df_food use these cols\n",
    "df_food = df_food[columns_to_keep]\n",
    "\n",
    "df_food.value_counts()"
   ]
  },
  {
   "cell_type": "markdown",
   "metadata": {},
   "source": [
    "What about `NaN`s? How many are there?"
   ]
  },
  {
   "cell_type": "code",
   "execution_count": 19,
   "metadata": {},
   "outputs": [
    {
     "data": {
      "text/plain": [
       "calories_day  weight                  \n",
       "3.0           140                         6\n",
       "              185                         5\n",
       "              150                         5\n",
       "              125                         5\n",
       "              155                         4\n",
       "                                         ..\n",
       "              137                         1\n",
       "              138                         1\n",
       "2.0           105                         1\n",
       "3.0           160                         1\n",
       "4.0           I'm not answering this.     1\n",
       "Name: count, Length: 67, dtype: int64"
      ]
     },
     "execution_count": 19,
     "metadata": {},
     "output_type": "execute_result"
    }
   ],
   "source": [
    "# Count ‘em.\n",
    "df_food.isna().sum()\n",
    "\n",
    "df_food.value_counts()\n"
   ]
  },
  {
   "cell_type": "markdown",
   "metadata": {},
   "source": [
    "We gotta remove those `NaN`s―the entire row."
   ]
  },
  {
   "cell_type": "code",
   "execution_count": 21,
   "metadata": {},
   "outputs": [
    {
     "data": {
      "text/html": [
       "<div>\n",
       "<style scoped>\n",
       "    .dataframe tbody tr th:only-of-type {\n",
       "        vertical-align: middle;\n",
       "    }\n",
       "\n",
       "    .dataframe tbody tr th {\n",
       "        vertical-align: top;\n",
       "    }\n",
       "\n",
       "    .dataframe thead th {\n",
       "        text-align: right;\n",
       "    }\n",
       "</style>\n",
       "<table border=\"1\" class=\"dataframe\">\n",
       "  <thead>\n",
       "    <tr style=\"text-align: right;\">\n",
       "      <th></th>\n",
       "      <th>calories_day</th>\n",
       "      <th>weight</th>\n",
       "    </tr>\n",
       "  </thead>\n",
       "  <tbody>\n",
       "    <tr>\n",
       "      <th>1</th>\n",
       "      <td>3.0</td>\n",
       "      <td>155</td>\n",
       "    </tr>\n",
       "    <tr>\n",
       "      <th>2</th>\n",
       "      <td>4.0</td>\n",
       "      <td>I'm not answering this.</td>\n",
       "    </tr>\n",
       "    <tr>\n",
       "      <th>3</th>\n",
       "      <td>3.0</td>\n",
       "      <td>Not sure, 240</td>\n",
       "    </tr>\n",
       "    <tr>\n",
       "      <th>4</th>\n",
       "      <td>2.0</td>\n",
       "      <td>190</td>\n",
       "    </tr>\n",
       "    <tr>\n",
       "      <th>5</th>\n",
       "      <td>3.0</td>\n",
       "      <td>190</td>\n",
       "    </tr>\n",
       "    <tr>\n",
       "      <th>...</th>\n",
       "      <td>...</td>\n",
       "      <td>...</td>\n",
       "    </tr>\n",
       "    <tr>\n",
       "      <th>118</th>\n",
       "      <td>3.0</td>\n",
       "      <td>140</td>\n",
       "    </tr>\n",
       "    <tr>\n",
       "      <th>119</th>\n",
       "      <td>3.0</td>\n",
       "      <td>185</td>\n",
       "    </tr>\n",
       "    <tr>\n",
       "      <th>120</th>\n",
       "      <td>4.0</td>\n",
       "      <td>156</td>\n",
       "    </tr>\n",
       "    <tr>\n",
       "      <th>121</th>\n",
       "      <td>2.0</td>\n",
       "      <td>180</td>\n",
       "    </tr>\n",
       "    <tr>\n",
       "      <th>123</th>\n",
       "      <td>4.0</td>\n",
       "      <td>135</td>\n",
       "    </tr>\n",
       "  </tbody>\n",
       "</table>\n",
       "<p>104 rows × 2 columns</p>\n",
       "</div>"
      ],
      "text/plain": [
       "     calories_day                    weight\n",
       "1             3.0                       155\n",
       "2             4.0  I'm not answering this. \n",
       "3             3.0             Not sure, 240\n",
       "4             2.0                       190\n",
       "5             3.0                       190\n",
       "..            ...                       ...\n",
       "118           3.0                       140\n",
       "119           3.0                       185\n",
       "120           4.0                       156\n",
       "121           2.0                       180\n",
       "123           4.0                       135\n",
       "\n",
       "[104 rows x 2 columns]"
      ]
     },
     "execution_count": 21,
     "metadata": {},
     "output_type": "execute_result"
    }
   ],
   "source": [
    "# Drop ‘em.\n",
    "df_food.dropna()\n"
   ]
  },
  {
   "cell_type": "markdown",
   "metadata": {},
   "source": [
    "But what about the weird non-numeric values in the column obviously meant for numeric data?\n",
    "\n",
    "Notice the data type of that column from when you got the types of all the columns?\n",
    "\n",
    "If only we could convert the column to a numeric type and drop the rows with invalid values. 🤔"
   ]
  },
  {
   "cell_type": "code",
   "execution_count": 22,
   "metadata": {},
   "outputs": [
    {
     "name": "stdout",
     "output_type": "stream",
     "text": [
      "     calories_day  weight\n",
      "1             3.0   155.0\n",
      "4             2.0   190.0\n",
      "5             3.0   190.0\n",
      "6             3.0   180.0\n",
      "7             3.0   137.0\n",
      "..            ...     ...\n",
      "118           3.0   140.0\n",
      "119           3.0   185.0\n",
      "120           4.0   156.0\n",
      "121           2.0   180.0\n",
      "123           4.0   135.0\n",
      "\n",
      "[101 rows x 2 columns]\n"
     ]
    }
   ],
   "source": [
    "# Fix that.\n",
    "df_food['weight'] = pd.to_numeric(df_food['weight'], errors='coerce' )\n",
    "df_food = df_food.dropna()\n",
    "print(df_food)\n"
   ]
  },
  {
   "cell_type": "markdown",
   "metadata": {},
   "source": [
    "Now this data seems reasonably clean for our purposes! 😁\n",
    "\n",
    "Let’s save it somewhere to be shipped off to another teammate. 💾"
   ]
  },
  {
   "cell_type": "code",
   "execution_count": 25,
   "metadata": {},
   "outputs": [],
   "source": [
    "# Savey save!\n",
    "df_food.to_csv('data/clean_food_coded.csv', index='False')"
   ]
  },
  {
   "cell_type": "markdown",
   "metadata": {},
   "source": [
    "## Ask a Manager Salary Survey 2021 (Responses) Data Set"
   ]
  },
  {
   "cell_type": "markdown",
   "metadata": {},
   "source": [
    "### Load the Data"
   ]
  },
  {
   "cell_type": "code",
   "execution_count": 28,
   "metadata": {},
   "outputs": [
    {
     "name": "stdout",
     "output_type": "stream",
     "text": [
      "                Timestamp How old are you?  What industry do you work in?  \\\n",
      "0      4/27/2021 11:02:10            25-34   Education (Higher Education)   \n",
      "1      4/27/2021 11:02:22            25-34              Computing or Tech   \n",
      "2      4/27/2021 11:02:38            25-34  Accounting, Banking & Finance   \n",
      "3      4/27/2021 11:02:41            25-34                     Nonprofits   \n",
      "4      4/27/2021 11:02:42            25-34  Accounting, Banking & Finance   \n",
      "...                   ...              ...                            ...   \n",
      "28057  7/12/2024 22:52:01            35-44                    Health care   \n",
      "28058  7/23/2024 17:51:03            25-34              Computing or Tech   \n",
      "28059  7/24/2024 12:22:58            18-24  Accounting, Banking & Finance   \n",
      "28060  7/26/2024 11:20:45            18-24              Computing or Tech   \n",
      "28061   8/20/2024 1:06:13            25-34                    Health care   \n",
      "\n",
      "                                      Job title  \\\n",
      "0            Research and Instruction Librarian   \n",
      "1      Change & Internal Communications Manager   \n",
      "2                          Marketing Specialist   \n",
      "3                               Program Manager   \n",
      "4                            Accounting Manager   \n",
      "...                                         ...   \n",
      "28057                              Veterinarian   \n",
      "28058                         Systems Architect   \n",
      "28059                 Risk Management Associate   \n",
      "28060                                        IT   \n",
      "28061                    Clinical physiologist    \n",
      "\n",
      "      If your job title needs additional context, please clarify here:  \\\n",
      "0                                                    NaN                 \n",
      "1                                                    NaN                 \n",
      "2                                                    NaN                 \n",
      "3                                                    NaN                 \n",
      "4                                                    NaN                 \n",
      "...                                                  ...                 \n",
      "28057                                                NaN                 \n",
      "28058                                                NaN                 \n",
      "28059                                                NaN                 \n",
      "28060                                                NaN                 \n",
      "28061                                                NaN                 \n",
      "\n",
      "      What is your annual salary? (You'll indicate the currency in a later question. If you are part-time or hourly, please enter an annualized equivalent -- what you would earn if you worked the job 40 hours a week, 52 weeks a year.)  \\\n",
      "0                                                 55,000                                                                                                                                                                                     \n",
      "1                                                 54,600                                                                                                                                                                                     \n",
      "2                                                 34,000                                                                                                                                                                                     \n",
      "3                                                 62,000                                                                                                                                                                                     \n",
      "4                                                 60,000                                                                                                                                                                                     \n",
      "...                                                  ...                                                                                                                                                                                     \n",
      "28057                                             135000                                                                                                                                                                                     \n",
      "28058                                             109000                                                                                                                                                                                     \n",
      "28059                                               1200                                                                                                                                                                                     \n",
      "28060                                               1700                                                                                                                                                                                     \n",
      "28061                                            1200000                                                                                                                                                                                     \n",
      "\n",
      "       How much additional monetary compensation do you get, if any (for example, bonuses or overtime in an average year)? Please only include monetary compensation here, not the value of benefits.  \\\n",
      "0                                                    0.0                                                                                                                                                \n",
      "1                                                 4000.0                                                                                                                                                \n",
      "2                                                    NaN                                                                                                                                                \n",
      "3                                                 3000.0                                                                                                                                                \n",
      "4                                                 7000.0                                                                                                                                                \n",
      "...                                                  ...                                                                                                                                                \n",
      "28057                                                NaN                                                                                                                                                \n",
      "28058                                                NaN                                                                                                                                                \n",
      "28059                                                0.0                                                                                                                                                \n",
      "28060                                               10.0                                                                                                                                                \n",
      "28061                                                NaN                                                                                                                                                \n",
      "\n",
      "      Please indicate the currency  \\\n",
      "0                              USD   \n",
      "1                              GBP   \n",
      "2                              USD   \n",
      "3                              USD   \n",
      "4                              USD   \n",
      "...                            ...   \n",
      "28057                          USD   \n",
      "28058                          USD   \n",
      "28059                          USD   \n",
      "28060                          USD   \n",
      "28061                        Other   \n",
      "\n",
      "      If \"Other,\" please indicate the currency here:   \\\n",
      "0                                                 NaN   \n",
      "1                                                 NaN   \n",
      "2                                                 NaN   \n",
      "3                                                 NaN   \n",
      "4                                                 NaN   \n",
      "...                                               ...   \n",
      "28057                                             NaN   \n",
      "28058                                             NaN   \n",
      "28059                                             NaN   \n",
      "28060                                             NaN   \n",
      "28061                                             NGN   \n",
      "\n",
      "      If your income needs additional context, please provide it here:  \\\n",
      "0                                                    NaN                 \n",
      "1                                                    NaN                 \n",
      "2                                                    NaN                 \n",
      "3                                                    NaN                 \n",
      "4                                                    NaN                 \n",
      "...                                                  ...                 \n",
      "28057                                                NaN                 \n",
      "28058                                                NaN                 \n",
      "28059                                                NaN                 \n",
      "28060                                                NaN                 \n",
      "28061                                                NaN                 \n",
      "\n",
      "      What country do you work in?  \\\n",
      "0                    United States   \n",
      "1                   United Kingdom   \n",
      "2                               US   \n",
      "3                              USA   \n",
      "4                               US   \n",
      "...                            ...   \n",
      "28057               United States    \n",
      "28058                          USA   \n",
      "28059                      Myanmar   \n",
      "28060                        Burma   \n",
      "28061                     Nigeria    \n",
      "\n",
      "      If you're in the U.S., what state do you work in?  \\\n",
      "0                                         Massachusetts   \n",
      "1                                                   NaN   \n",
      "2                                             Tennessee   \n",
      "3                                             Wisconsin   \n",
      "4                                        South Carolina   \n",
      "...                                                 ...   \n",
      "28057                                          Missouri   \n",
      "28058                                           Georgia   \n",
      "28059                                          Colorado   \n",
      "28060                                               NaN   \n",
      "28061                                               NaN   \n",
      "\n",
      "      What city do you work in?  \\\n",
      "0                        Boston   \n",
      "1                     Cambridge   \n",
      "2                   Chattanooga   \n",
      "3                     Milwaukee   \n",
      "4                    Greenville   \n",
      "...                         ...   \n",
      "28057               Wentzville    \n",
      "28058                   Atlanta   \n",
      "28059                    Yangon   \n",
      "28060                    Yangon   \n",
      "28061                     Lagos   \n",
      "\n",
      "      How many years of professional work experience do you have overall?  \\\n",
      "0                                              5-7 years                    \n",
      "1                                           8 - 10 years                    \n",
      "2                                            2 - 4 years                    \n",
      "3                                           8 - 10 years                    \n",
      "4                                           8 - 10 years                    \n",
      "...                                                  ...                    \n",
      "28057                                      11 - 20 years                    \n",
      "28058                                          5-7 years                    \n",
      "28059                                        2 - 4 years                    \n",
      "28060                                        2 - 4 years                    \n",
      "28061                                        2 - 4 years                    \n",
      "\n",
      "      How many years of professional work experience do you have in your field?  \\\n",
      "0                                              5-7 years                          \n",
      "1                                              5-7 years                          \n",
      "2                                            2 - 4 years                          \n",
      "3                                              5-7 years                          \n",
      "4                                              5-7 years                          \n",
      "...                                                  ...                          \n",
      "28057                                      11 - 20 years                          \n",
      "28058                                          5-7 years                          \n",
      "28059                                        2 - 4 years                          \n",
      "28060                                     1 year or less                          \n",
      "28061                                        2 - 4 years                          \n",
      "\n",
      "      What is your highest level of education completed? What is your gender?  \\\n",
      "0                                        Master's degree                Woman   \n",
      "1                                         College degree           Non-binary   \n",
      "2                                         College degree                Woman   \n",
      "3                                         College degree                Woman   \n",
      "4                                         College degree                Woman   \n",
      "...                                                  ...                  ...   \n",
      "28057                 Professional degree (MD, JD, etc.)                Woman   \n",
      "28058                                     College degree                  Man   \n",
      "28059                                       Some college                  Man   \n",
      "28060                                       Some college                  Man   \n",
      "28061                                     College degree                Woman   \n",
      "\n",
      "      What is your race? (Choose all that apply.)  \n",
      "0                                           White  \n",
      "1                                           White  \n",
      "2                                           White  \n",
      "3                                           White  \n",
      "4                                           White  \n",
      "...                                           ...  \n",
      "28057                                       White  \n",
      "28058                                       White  \n",
      "28059                     Asian or Asian American  \n",
      "28060                     Asian or Asian American  \n",
      "28061                   Black or African American  \n",
      "\n",
      "[28062 rows x 18 columns]\n"
     ]
    }
   ],
   "source": [
    "# Load the Ask A Manager Salary Survey 2021 (Responses) data set into a variable (e.g., df_salary).\n",
    "df_salary = pd.read_csv('/Users/laure1/Desktop/CTP/my-fork-2024-DS-Fri-1230/Week-02-DS-Overview-and-Data/data/manager_salary_2021.tsv', sep = '\\t')\n",
    "print(df_salary)"
   ]
  },
  {
   "cell_type": "markdown",
   "metadata": {},
   "source": [
    "Was that hard? 🙃"
   ]
  },
  {
   "cell_type": "markdown",
   "metadata": {},
   "source": [
    "#### rename the file to something that is better for all systems.  \n",
    "* No spaces in filename (can use '_')\n",
    "* all lower case"
   ]
  },
  {
   "cell_type": "markdown",
   "metadata": {},
   "source": [
    "### Explore\n",
    "\n",
    "You know the drill."
   ]
  },
  {
   "cell_type": "markdown",
   "metadata": {},
   "source": [
    "How much data did you just load?"
   ]
  },
  {
   "cell_type": "code",
   "execution_count": 29,
   "metadata": {},
   "outputs": [
    {
     "name": "stdout",
     "output_type": "stream",
     "text": [
      "(28062, 18)\n",
      "505116\n"
     ]
    }
   ],
   "source": [
    "# Count by hand. I’m dead serious.\n",
    "print(df_salary.shape)\n",
    "print(df_salary.size)"
   ]
  },
  {
   "cell_type": "markdown",
   "metadata": {},
   "source": [
    "What are the columns and their types?"
   ]
  },
  {
   "cell_type": "code",
   "execution_count": 30,
   "metadata": {},
   "outputs": [
    {
     "name": "stdout",
     "output_type": "stream",
     "text": [
      "Timestamp                                                                                                                                                                                                                                object\n",
      "How old are you?                                                                                                                                                                                                                         object\n",
      "What industry do you work in?                                                                                                                                                                                                            object\n",
      "Job title                                                                                                                                                                                                                                object\n",
      "If your job title needs additional context, please clarify here:                                                                                                                                                                         object\n",
      "What is your annual salary? (You'll indicate the currency in a later question. If you are part-time or hourly, please enter an annualized equivalent -- what you would earn if you worked the job 40 hours a week, 52 weeks a year.)     object\n",
      "How much additional monetary compensation do you get, if any (for example, bonuses or overtime in an average year)? Please only include monetary compensation here, not the value of benefits.                                          float64\n",
      "Please indicate the currency                                                                                                                                                                                                             object\n",
      "If \"Other,\" please indicate the currency here:                                                                                                                                                                                           object\n",
      "If your income needs additional context, please provide it here:                                                                                                                                                                         object\n",
      "What country do you work in?                                                                                                                                                                                                             object\n",
      "If you're in the U.S., what state do you work in?                                                                                                                                                                                        object\n",
      "What city do you work in?                                                                                                                                                                                                                object\n",
      "How many years of professional work experience do you have overall?                                                                                                                                                                      object\n",
      "How many years of professional work experience do you have in your field?                                                                                                                                                                object\n",
      "What is your highest level of education completed?                                                                                                                                                                                       object\n",
      "What is your gender?                                                                                                                                                                                                                     object\n",
      "What is your race? (Choose all that apply.)                                                                                                                                                                                              object\n",
      "dtype: object\n"
     ]
    }
   ],
   "source": [
    "# Show the column names and their types.\n",
    "print(df_salary.dtypes)\n"
   ]
  },
  {
   "cell_type": "markdown",
   "metadata": {},
   "source": [
    "Oh… Ugh! Give these columns easier names to work with first. 🙄"
   ]
  },
  {
   "cell_type": "code",
   "execution_count": 33,
   "metadata": {},
   "outputs": [
    {
     "name": "stdout",
     "output_type": "stream",
     "text": [
      "timestamp                 object\n",
      "age                       object\n",
      "industry                  object\n",
      "title                     object\n",
      "title_context             object\n",
      "salary                    object\n",
      "additional_comp          float64\n",
      "currency                  object\n",
      "other_currency            object\n",
      "salary_context            object\n",
      "country                   object\n",
      "state                     object\n",
      "city                      object\n",
      "total_yoe                 object\n",
      "field_yoe                 object\n",
      "highest_edu_completed     object\n",
      "gender                    object\n",
      "race                      object\n",
      "dtype: object\n"
     ]
    }
   ],
   "source": [
    "# Rename ‘em.\n",
    "# Non-binding suggestions: timestamp, age, industry, title, title_context, salary, additional_compensation, currency, other_currency, salary_context, country, state, city, total_yoe, field_yoe, highest_education_completed\tgender, race\n",
    "col_names = ['timestamp', 'age', 'industry', 'title', 'title_context', 'salary', 'additional_comp', 'currency', 'other_currency', 'salary_context', 'country', 'state', 'city', 'total_yoe', 'field_yoe', 'highest_edu_completed', 'gender', 'race']\n",
    "\n",
    "df_salary.columns = col_names\n",
    "\n",
    "print(df_salary.dtypes)"
   ]
  },
  {
   "cell_type": "markdown",
   "metadata": {},
   "source": [
    "It’s a lot, and that should not have been easy. 😏"
   ]
  },
  {
   "cell_type": "markdown",
   "metadata": {},
   "source": [
    "You’re going to have a gander at the computing/tech subset first because thats *your* industry. But first, what value corresponds to that `industry`?"
   ]
  },
  {
   "cell_type": "code",
   "execution_count": 35,
   "metadata": {},
   "outputs": [
    {
     "data": {
      "text/plain": [
       "industry\n",
       "Computing or Tech                          4699\n",
       "Education (Higher Education)               2464\n",
       "Nonprofits                                 2419\n",
       "Health care                                1896\n",
       "Government and Public Administration       1889\n",
       "                                           ... \n",
       "Gaming (Gambling)                             1\n",
       "Regulatory Affairs- nutraceuticals            1\n",
       "Manufacturing : corporate admin support       1\n",
       "Real Estate Investment Support                1\n",
       "Wine & Spirits                                1\n",
       "Name: count, Length: 1219, dtype: int64"
      ]
     },
     "execution_count": 35,
     "metadata": {},
     "output_type": "execute_result"
    }
   ],
   "source": [
    "# List the unique industries and a count of their instances.\n",
    "df_salary['industry'].value_counts()"
   ]
  },
  {
   "cell_type": "markdown",
   "metadata": {},
   "source": [
    "That value among the top 5 is what you’re looking for innit? Filter out all the rows not in that industry and save it into a new dataframe. "
   ]
  },
  {
   "cell_type": "code",
   "execution_count": 38,
   "metadata": {},
   "outputs": [
    {
     "data": {
      "text/html": [
       "<div>\n",
       "<style scoped>\n",
       "    .dataframe tbody tr th:only-of-type {\n",
       "        vertical-align: middle;\n",
       "    }\n",
       "\n",
       "    .dataframe tbody tr th {\n",
       "        vertical-align: top;\n",
       "    }\n",
       "\n",
       "    .dataframe thead th {\n",
       "        text-align: right;\n",
       "    }\n",
       "</style>\n",
       "<table border=\"1\" class=\"dataframe\">\n",
       "  <thead>\n",
       "    <tr style=\"text-align: right;\">\n",
       "      <th></th>\n",
       "      <th>timestamp</th>\n",
       "      <th>age</th>\n",
       "      <th>industry</th>\n",
       "      <th>title</th>\n",
       "      <th>title_context</th>\n",
       "      <th>salary</th>\n",
       "      <th>additional_comp</th>\n",
       "      <th>currency</th>\n",
       "      <th>other_currency</th>\n",
       "      <th>salary_context</th>\n",
       "      <th>country</th>\n",
       "      <th>state</th>\n",
       "      <th>city</th>\n",
       "      <th>total_yoe</th>\n",
       "      <th>field_yoe</th>\n",
       "      <th>highest_edu_completed</th>\n",
       "      <th>gender</th>\n",
       "      <th>race</th>\n",
       "    </tr>\n",
       "  </thead>\n",
       "  <tbody>\n",
       "    <tr>\n",
       "      <th>1</th>\n",
       "      <td>4/27/2021 11:02:22</td>\n",
       "      <td>25-34</td>\n",
       "      <td>Computing or Tech</td>\n",
       "      <td>Change &amp; Internal Communications Manager</td>\n",
       "      <td>NaN</td>\n",
       "      <td>54,600</td>\n",
       "      <td>4000.0</td>\n",
       "      <td>GBP</td>\n",
       "      <td>NaN</td>\n",
       "      <td>NaN</td>\n",
       "      <td>United Kingdom</td>\n",
       "      <td>NaN</td>\n",
       "      <td>Cambridge</td>\n",
       "      <td>8 - 10 years</td>\n",
       "      <td>5-7 years</td>\n",
       "      <td>College degree</td>\n",
       "      <td>Non-binary</td>\n",
       "      <td>White</td>\n",
       "    </tr>\n",
       "    <tr>\n",
       "      <th>8</th>\n",
       "      <td>4/27/2021 11:03:01</td>\n",
       "      <td>45-54</td>\n",
       "      <td>Computing or Tech</td>\n",
       "      <td>Systems Analyst</td>\n",
       "      <td>Data developer/ETL Developer</td>\n",
       "      <td>112,000</td>\n",
       "      <td>10000.0</td>\n",
       "      <td>USD</td>\n",
       "      <td>NaN</td>\n",
       "      <td>NaN</td>\n",
       "      <td>US</td>\n",
       "      <td>Missouri</td>\n",
       "      <td>St. Louis</td>\n",
       "      <td>21 - 30 years</td>\n",
       "      <td>21 - 30 years</td>\n",
       "      <td>College degree</td>\n",
       "      <td>Woman</td>\n",
       "      <td>White</td>\n",
       "    </tr>\n",
       "    <tr>\n",
       "      <th>43</th>\n",
       "      <td>4/27/2021 11:04:04</td>\n",
       "      <td>25-34</td>\n",
       "      <td>Computing or Tech</td>\n",
       "      <td>Principal Software Engineer</td>\n",
       "      <td>NaN</td>\n",
       "      <td>187,500</td>\n",
       "      <td>5000.0</td>\n",
       "      <td>USD</td>\n",
       "      <td>NaN</td>\n",
       "      <td>NaN</td>\n",
       "      <td>United States</td>\n",
       "      <td>Pennsylvania</td>\n",
       "      <td>Pittsburgh</td>\n",
       "      <td>8 - 10 years</td>\n",
       "      <td>5-7 years</td>\n",
       "      <td>College degree</td>\n",
       "      <td>Woman</td>\n",
       "      <td>White</td>\n",
       "    </tr>\n",
       "    <tr>\n",
       "      <th>44</th>\n",
       "      <td>4/27/2021 11:04:04</td>\n",
       "      <td>25-34</td>\n",
       "      <td>Computing or Tech</td>\n",
       "      <td>Intelligence Analyst</td>\n",
       "      <td>NaN</td>\n",
       "      <td>110,000</td>\n",
       "      <td>20000.0</td>\n",
       "      <td>USD</td>\n",
       "      <td>NaN</td>\n",
       "      <td>Around 20,000 a year in stock</td>\n",
       "      <td>USA</td>\n",
       "      <td>Virginia</td>\n",
       "      <td>Arlington, VA</td>\n",
       "      <td>8 - 10 years</td>\n",
       "      <td>8 - 10 years</td>\n",
       "      <td>Master's degree</td>\n",
       "      <td>Man</td>\n",
       "      <td>White</td>\n",
       "    </tr>\n",
       "    <tr>\n",
       "      <th>46</th>\n",
       "      <td>4/27/2021 11:04:07</td>\n",
       "      <td>35-44</td>\n",
       "      <td>Computing or Tech</td>\n",
       "      <td>Mobile developer</td>\n",
       "      <td>NaN</td>\n",
       "      <td>144,600</td>\n",
       "      <td>2500.0</td>\n",
       "      <td>USD</td>\n",
       "      <td>NaN</td>\n",
       "      <td>NaN</td>\n",
       "      <td>USA</td>\n",
       "      <td>Massachusetts</td>\n",
       "      <td>Boston</td>\n",
       "      <td>5-7 years</td>\n",
       "      <td>5-7 years</td>\n",
       "      <td>PhD</td>\n",
       "      <td>Woman</td>\n",
       "      <td>White</td>\n",
       "    </tr>\n",
       "  </tbody>\n",
       "</table>\n",
       "</div>"
      ],
      "text/plain": [
       "             timestamp    age           industry  \\\n",
       "1   4/27/2021 11:02:22  25-34  Computing or Tech   \n",
       "8   4/27/2021 11:03:01  45-54  Computing or Tech   \n",
       "43  4/27/2021 11:04:04  25-34  Computing or Tech   \n",
       "44  4/27/2021 11:04:04  25-34  Computing or Tech   \n",
       "46  4/27/2021 11:04:07  35-44  Computing or Tech   \n",
       "\n",
       "                                       title                 title_context  \\\n",
       "1   Change & Internal Communications Manager                           NaN   \n",
       "8                            Systems Analyst  Data developer/ETL Developer   \n",
       "43               Principal Software Engineer                           NaN   \n",
       "44                      Intelligence Analyst                           NaN   \n",
       "46                          Mobile developer                           NaN   \n",
       "\n",
       "     salary  additional_comp currency other_currency  \\\n",
       "1    54,600           4000.0      GBP            NaN   \n",
       "8   112,000          10000.0      USD            NaN   \n",
       "43  187,500           5000.0      USD            NaN   \n",
       "44  110,000          20000.0      USD            NaN   \n",
       "46  144,600           2500.0      USD            NaN   \n",
       "\n",
       "                   salary_context         country          state  \\\n",
       "1                             NaN  United Kingdom            NaN   \n",
       "8                             NaN              US       Missouri   \n",
       "43                            NaN   United States   Pennsylvania   \n",
       "44  Around 20,000 a year in stock             USA       Virginia   \n",
       "46                            NaN             USA  Massachusetts   \n",
       "\n",
       "             city      total_yoe      field_yoe highest_edu_completed  \\\n",
       "1       Cambridge   8 - 10 years      5-7 years        College degree   \n",
       "8       St. Louis  21 - 30 years  21 - 30 years        College degree   \n",
       "43     Pittsburgh   8 - 10 years      5-7 years        College degree   \n",
       "44  Arlington, VA   8 - 10 years   8 - 10 years       Master's degree   \n",
       "46         Boston      5-7 years      5-7 years                   PhD   \n",
       "\n",
       "        gender   race  \n",
       "1   Non-binary  White  \n",
       "8        Woman  White  \n",
       "43       Woman  White  \n",
       "44         Man  White  \n",
       "46       Woman  White  "
      ]
     },
     "execution_count": 38,
     "metadata": {},
     "output_type": "execute_result"
    }
   ],
   "source": [
    "# Filtery filter. (Save it to a new variable, df_salary_tech.)\n",
    "df_salary_tech = df_salary[df_salary['industry'] == 'Computing or Tech']\n",
    "\n",
    "df_salary_tech.head()"
   ]
  },
  {
   "cell_type": "markdown",
   "metadata": {},
   "source": [
    "Do a sanity check to make sure that the only values you kept are the one you are filtered for.  "
   ]
  },
  {
   "cell_type": "code",
   "execution_count": 39,
   "metadata": {},
   "outputs": [
    {
     "name": "stdout",
     "output_type": "stream",
     "text": [
      "['Computing or Tech']\n"
     ]
    }
   ],
   "source": [
    "# Sanity Check \n",
    "df_salary_tech['industry'].value_counts()\n",
    "print(df_salary_tech['industry'].unique())"
   ]
  },
  {
   "cell_type": "markdown",
   "metadata": {},
   "source": [
    "We are very interested in salary figures. But how many dollars 💵 is a euro 💶 or a pound 💷? That sounds like a problem for another day. 🫠\n",
    "\n",
    "For now, let’s just look at U.S. dollars (`'USD'`)."
   ]
  },
  {
   "cell_type": "code",
   "execution_count": 42,
   "metadata": {},
   "outputs": [
    {
     "data": {
      "text/html": [
       "<div>\n",
       "<style scoped>\n",
       "    .dataframe tbody tr th:only-of-type {\n",
       "        vertical-align: middle;\n",
       "    }\n",
       "\n",
       "    .dataframe tbody tr th {\n",
       "        vertical-align: top;\n",
       "    }\n",
       "\n",
       "    .dataframe thead th {\n",
       "        text-align: right;\n",
       "    }\n",
       "</style>\n",
       "<table border=\"1\" class=\"dataframe\">\n",
       "  <thead>\n",
       "    <tr style=\"text-align: right;\">\n",
       "      <th></th>\n",
       "      <th>timestamp</th>\n",
       "      <th>age</th>\n",
       "      <th>industry</th>\n",
       "      <th>title</th>\n",
       "      <th>title_context</th>\n",
       "      <th>salary</th>\n",
       "      <th>additional_comp</th>\n",
       "      <th>currency</th>\n",
       "      <th>other_currency</th>\n",
       "      <th>salary_context</th>\n",
       "      <th>country</th>\n",
       "      <th>state</th>\n",
       "      <th>city</th>\n",
       "      <th>total_yoe</th>\n",
       "      <th>field_yoe</th>\n",
       "      <th>highest_edu_completed</th>\n",
       "      <th>gender</th>\n",
       "      <th>race</th>\n",
       "    </tr>\n",
       "  </thead>\n",
       "  <tbody>\n",
       "    <tr>\n",
       "      <th>8</th>\n",
       "      <td>4/27/2021 11:03:01</td>\n",
       "      <td>45-54</td>\n",
       "      <td>Computing or Tech</td>\n",
       "      <td>Systems Analyst</td>\n",
       "      <td>Data developer/ETL Developer</td>\n",
       "      <td>112,000</td>\n",
       "      <td>10000.0</td>\n",
       "      <td>USD</td>\n",
       "      <td>NaN</td>\n",
       "      <td>NaN</td>\n",
       "      <td>US</td>\n",
       "      <td>Missouri</td>\n",
       "      <td>St. Louis</td>\n",
       "      <td>21 - 30 years</td>\n",
       "      <td>21 - 30 years</td>\n",
       "      <td>College degree</td>\n",
       "      <td>Woman</td>\n",
       "      <td>White</td>\n",
       "    </tr>\n",
       "    <tr>\n",
       "      <th>43</th>\n",
       "      <td>4/27/2021 11:04:04</td>\n",
       "      <td>25-34</td>\n",
       "      <td>Computing or Tech</td>\n",
       "      <td>Principal Software Engineer</td>\n",
       "      <td>NaN</td>\n",
       "      <td>187,500</td>\n",
       "      <td>5000.0</td>\n",
       "      <td>USD</td>\n",
       "      <td>NaN</td>\n",
       "      <td>NaN</td>\n",
       "      <td>United States</td>\n",
       "      <td>Pennsylvania</td>\n",
       "      <td>Pittsburgh</td>\n",
       "      <td>8 - 10 years</td>\n",
       "      <td>5-7 years</td>\n",
       "      <td>College degree</td>\n",
       "      <td>Woman</td>\n",
       "      <td>White</td>\n",
       "    </tr>\n",
       "    <tr>\n",
       "      <th>44</th>\n",
       "      <td>4/27/2021 11:04:04</td>\n",
       "      <td>25-34</td>\n",
       "      <td>Computing or Tech</td>\n",
       "      <td>Intelligence Analyst</td>\n",
       "      <td>NaN</td>\n",
       "      <td>110,000</td>\n",
       "      <td>20000.0</td>\n",
       "      <td>USD</td>\n",
       "      <td>NaN</td>\n",
       "      <td>Around 20,000 a year in stock</td>\n",
       "      <td>USA</td>\n",
       "      <td>Virginia</td>\n",
       "      <td>Arlington, VA</td>\n",
       "      <td>8 - 10 years</td>\n",
       "      <td>8 - 10 years</td>\n",
       "      <td>Master's degree</td>\n",
       "      <td>Man</td>\n",
       "      <td>White</td>\n",
       "    </tr>\n",
       "    <tr>\n",
       "      <th>46</th>\n",
       "      <td>4/27/2021 11:04:07</td>\n",
       "      <td>35-44</td>\n",
       "      <td>Computing or Tech</td>\n",
       "      <td>Mobile developer</td>\n",
       "      <td>NaN</td>\n",
       "      <td>144,600</td>\n",
       "      <td>2500.0</td>\n",
       "      <td>USD</td>\n",
       "      <td>NaN</td>\n",
       "      <td>NaN</td>\n",
       "      <td>USA</td>\n",
       "      <td>Massachusetts</td>\n",
       "      <td>Boston</td>\n",
       "      <td>5-7 years</td>\n",
       "      <td>5-7 years</td>\n",
       "      <td>PhD</td>\n",
       "      <td>Woman</td>\n",
       "      <td>White</td>\n",
       "    </tr>\n",
       "    <tr>\n",
       "      <th>47</th>\n",
       "      <td>4/27/2021 11:04:09</td>\n",
       "      <td>35-44</td>\n",
       "      <td>Computing or Tech</td>\n",
       "      <td>Product Design Director</td>\n",
       "      <td>NaN</td>\n",
       "      <td>200,850</td>\n",
       "      <td>40000.0</td>\n",
       "      <td>USD</td>\n",
       "      <td>NaN</td>\n",
       "      <td>NaN</td>\n",
       "      <td>USA</td>\n",
       "      <td>North Carolina</td>\n",
       "      <td>Chapel Hill</td>\n",
       "      <td>11 - 20 years</td>\n",
       "      <td>11 - 20 years</td>\n",
       "      <td>College degree</td>\n",
       "      <td>Woman</td>\n",
       "      <td>White</td>\n",
       "    </tr>\n",
       "  </tbody>\n",
       "</table>\n",
       "</div>"
      ],
      "text/plain": [
       "             timestamp    age           industry                        title  \\\n",
       "8   4/27/2021 11:03:01  45-54  Computing or Tech              Systems Analyst   \n",
       "43  4/27/2021 11:04:04  25-34  Computing or Tech  Principal Software Engineer   \n",
       "44  4/27/2021 11:04:04  25-34  Computing or Tech         Intelligence Analyst   \n",
       "46  4/27/2021 11:04:07  35-44  Computing or Tech             Mobile developer   \n",
       "47  4/27/2021 11:04:09  35-44  Computing or Tech      Product Design Director   \n",
       "\n",
       "                   title_context   salary  additional_comp currency  \\\n",
       "8   Data developer/ETL Developer  112,000          10000.0      USD   \n",
       "43                           NaN  187,500           5000.0      USD   \n",
       "44                           NaN  110,000          20000.0      USD   \n",
       "46                           NaN  144,600           2500.0      USD   \n",
       "47                           NaN  200,850          40000.0      USD   \n",
       "\n",
       "   other_currency                 salary_context        country  \\\n",
       "8             NaN                            NaN             US   \n",
       "43            NaN                            NaN  United States   \n",
       "44            NaN  Around 20,000 a year in stock            USA   \n",
       "46            NaN                            NaN            USA   \n",
       "47            NaN                            NaN            USA   \n",
       "\n",
       "             state           city      total_yoe      field_yoe  \\\n",
       "8         Missouri      St. Louis  21 - 30 years  21 - 30 years   \n",
       "43    Pennsylvania     Pittsburgh   8 - 10 years      5-7 years   \n",
       "44        Virginia  Arlington, VA   8 - 10 years   8 - 10 years   \n",
       "46   Massachusetts         Boston      5-7 years      5-7 years   \n",
       "47  North Carolina    Chapel Hill  11 - 20 years  11 - 20 years   \n",
       "\n",
       "   highest_edu_completed gender   race  \n",
       "8         College degree  Woman  White  \n",
       "43        College degree  Woman  White  \n",
       "44       Master's degree    Man  White  \n",
       "46                   PhD  Woman  White  \n",
       "47        College degree  Woman  White  "
      ]
     },
     "execution_count": 42,
     "metadata": {},
     "output_type": "execute_result"
    }
   ],
   "source": [
    "# Filtery filter for just the jobs that pay in USD!\n",
    "df_salary_tech_usd = df_salary_tech[df_salary_tech['currency'] == 'USD']\n",
    "\n",
    "df_salary_tech_usd.head()"
   ]
  },
  {
   "cell_type": "markdown",
   "metadata": {},
   "source": [
    "What we really want know is how each U.S. city pays in tech. What value in `country` represents the United States of America?"
   ]
  },
  {
   "cell_type": "code",
   "execution_count": 43,
   "metadata": {},
   "outputs": [
    {
     "data": {
      "text/plain": [
       "country\n",
       "United States               1576\n",
       "USA                         1222\n",
       "US                           412\n",
       "U.S.                         108\n",
       "United States of America      90\n",
       "                            ... \n",
       "Pakistan                       1\n",
       "Puerto Rico                    1\n",
       "America                        1\n",
       "Uniyed states                  1\n",
       "Burma                          1\n",
       "Name: count, Length: 76, dtype: int64"
      ]
     },
     "execution_count": 43,
     "metadata": {},
     "output_type": "execute_result"
    }
   ],
   "source": [
    "# We did filter for USD, so if we do a count of each unique country in descending count order, the relevant value(s) should show up at the top.\n",
    "df_salary_tech_usd['country'].value_counts()"
   ]
  },
  {
   "cell_type": "markdown",
   "metadata": {},
   "source": [
    "### Clean the Data\n",
    "\n",
    "Well, we can’t get our answers with what we currently have, so you’ll have to make some changes."
   ]
  },
  {
   "cell_type": "markdown",
   "metadata": {},
   "source": [
    "Let’s not worry about anything below the first 5 values for now. Convert the top 5 to a single canonical value―say, `'US'`, which is nice and short."
   ]
  },
  {
   "cell_type": "code",
   "execution_count": 45,
   "metadata": {},
   "outputs": [
    {
     "data": {
      "text/plain": [
       "country\n",
       "United States               1576\n",
       "USA                         1222\n",
       "US                           412\n",
       "U.S.                         108\n",
       "United States of America      90\n",
       "                            ... \n",
       "Pakistan                       1\n",
       "Puerto Rico                    1\n",
       "America                        1\n",
       "Uniyed states                  1\n",
       "Burma                          1\n",
       "Name: count, Length: 76, dtype: int64"
      ]
     },
     "execution_count": 45,
     "metadata": {},
     "output_type": "execute_result"
    }
   ],
   "source": [
    "# Replace them all with 'US'.\n",
    "us_replacements = {\n",
    "    'United States': 'US',\n",
    "    'USA': 'US',\n",
    "    'U.S.': 'US',\n",
    "    'United States of America': 'US'\n",
    "}\n",
    "\n",
    "# Replace all instances in dict with 'US'\n",
    "df_salary_tech_usd.loc[:5, 'country'] = df_salary_tech_usd.loc[:4, 'country'].replace(us_replacements)\n",
    "\n",
    "df_salary_tech_usd['country'].value_counts()"
   ]
  },
  {
   "cell_type": "markdown",
   "metadata": {},
   "source": [
    "Have a look at the count of each unique country again now."
   ]
  },
  {
   "cell_type": "code",
   "execution_count": 46,
   "metadata": {},
   "outputs": [
    {
     "data": {
      "text/plain": [
       "country\n",
       "United States               1576\n",
       "USA                         1222\n",
       "US                           412\n",
       "U.S.                         108\n",
       "United States of America      90\n",
       "                            ... \n",
       "Pakistan                       1\n",
       "Puerto Rico                    1\n",
       "America                        1\n",
       "Uniyed states                  1\n",
       "Burma                          1\n",
       "Name: count, Length: 76, dtype: int64"
      ]
     },
     "execution_count": 46,
     "metadata": {},
     "output_type": "execute_result"
    }
   ],
   "source": [
    "# Count again.\n",
    "df_salary_tech_usd['country'].value_counts()\n"
   ]
  },
  {
   "cell_type": "markdown",
   "metadata": {},
   "source": [
    "Did you notice anything interesting?"
   ]
  },
  {
   "cell_type": "code",
   "execution_count": 75,
   "metadata": {},
   "outputs": [],
   "source": [
    "# BONUS CREDIT: resolve [most of] those anomalous cases too without exhaustively taking every variant literally into account.\n",
    "\n",
    "col_names = ['timestamp', 'age', 'industry', 'title', 'title_context', 'salary', 'additional_comp', 'currency', 'other_currency', 'salary_context', 'country', 'state', 'city', 'total_yoe', 'field_yoe', 'highest_edu_completed', 'gender', 'race']\n",
    "\n",
    "df_salary.columns = col_names\n",
    "\n",
    "# Convert all country names to uppercase for consistency of dict\n",
    "df_salary['country'] = df_salary['country'].str.upper()\n",
    "\n",
    "# Dictionary for common corrections. I added as many as I could before I went crazy\n",
    "country_replacements = {\n",
    "    'UNITED STATES': 'US',\n",
    "    'USA': 'US',\n",
    "    'US>': 'US',\n",
    "    'USAB': 'US',\n",
    "    'UNITED STATESP': 'US',  # Corrected typo\n",
    "    'UNITED STTES': 'US',    # Corrected typo\n",
    "    'UNTED STATES': 'US',    # Corrected typo\n",
    "    'UNITED KINGDOM': 'UK',\n",
    "    'UK NORTHERN ENGLAND': 'UK',\n",
    "    'U.S.': 'US',\n",
    "    'FOR THE US GOVERNMENT, BUT POSTED OVERSEAS': 'US',\n",
    "    'CAN': 'CANADA',\n",
    "    'AUS': 'AUSTRALIA',\n",
    "    'AUSTRALI': 'AUSTRALIA',  # Corrected typo\n",
    "    'NEDERLAND': 'NETHERLANDS',\n",
    "    'NL': 'NETHERLANDS',\n",
    "    'DANMARK': 'DENMARK',\n",
    "    'IS': 'ISRAEL',\n",
    "    \"UNITED STATTES\": 'US',\n",
    "    \"UNIITED STATES\": 'US',\n",
    "    'BURMA': 'MYANMAR',\n",
    "    # Add other corrections if necessary\n",
    "}\n",
    "\n",
    "# Apply the replacements\n",
    "df_salary['country'] = df_salary['country'].replace(country_replacements)\n",
    "\n",
    "# Remove special characters or clean up data using regex\n",
    "df_salary['country'] = df_salary['country'].str.replace(r'[^\\w\\s]', '', regex=True).str.strip()\n",
    "\n",
    "# Normalize the corrected country names again \n",
    "df_salary['country'] = df_salary['country'].str.upper()\n"
   ]
  },
  {
   "cell_type": "code",
   "execution_count": 76,
   "metadata": {},
   "outputs": [
    {
     "name": "stdout",
     "output_type": "stream",
     "text": [
      "country\n",
      "US                                          22964\n",
      "CANADA                                       1679\n",
      "UK                                           1339\n",
      "AUSTRALIA                                     390\n",
      "GERMANY                                       195\n",
      "                                            ...  \n",
      "WALES UNITED KINGDOM                            1\n",
      "SOMALIA                                         1\n",
      "FROM ROMANIA BUT FOR AN US BASED COMPANY        1\n",
      "COTE DIVOIRE                                    1\n",
      "CAMBODIA                                        1\n",
      "Name: count, Length: 226, dtype: int64\n"
     ]
    }
   ],
   "source": [
    "# BONUS CREDIT: if you’ve resolved it, let’s see how well you did by counting the number of instances of each unique value.\n",
    "\n",
    "print(df_salary['country'].value_counts())\n",
    "\n",
    "# New count for US is 22964, which is > old count of 1576"
   ]
  },
  {
   "cell_type": "markdown",
   "metadata": {},
   "source": [
    "It’s looking good so far. Let’s find out the minimum, mean, and maximum (in that order) salary by state, sorted by the mean in descending order."
   ]
  },
  {
   "cell_type": "code",
   "execution_count": 58,
   "metadata": {},
   "outputs": [
    {
     "name": "stdout",
     "output_type": "stream",
     "text": [
      "                             state  min_salary    mean_salary  max_salary\n",
      "0                          Alabama     35000.0  117400.000000    350000.0\n",
      "1                          Arizona     35000.0   97833.333333    145000.0\n",
      "2                         Arkansas         4.0   58001.000000     95000.0\n",
      "3                       California         0.0  153286.988827    520000.0\n",
      "4             California, Colorado    176000.0  176000.000000    176000.0\n",
      "5             California, Maryland     81500.0   81500.000000     81500.0\n",
      "6               California, Oregon    200000.0  200000.000000    200000.0\n",
      "7                         Colorado     49400.0  109291.891892    165000.0\n",
      "8                      Connecticut     68000.0  161610.000000    270000.0\n",
      "9                         Delaware    169000.0  169000.000000    169000.0\n",
      "10            District of Columbia     59000.0  142923.076923    200000.0\n",
      "11  District of Columbia, Virginia    109200.0  109200.000000    109200.0\n",
      "12                         Florida     28800.0  210711.000000   2600000.0\n",
      "13                         Georgia     29120.0  115297.647059    242000.0\n",
      "14                           Idaho     74860.0  105465.000000    170000.0\n",
      "15                        Illinois     36000.0  117555.571429    228800.0\n",
      "16                         Indiana     15000.0   82875.000000    140000.0\n",
      "17                            Iowa     63000.0  101200.000000    142000.0\n",
      "18                          Kansas     41500.0  109666.666667    167000.0\n",
      "19                        Kentucky     62000.0  102500.000000    125000.0\n",
      "20                       Louisiana     75000.0   80500.000000     84000.0\n",
      "21           Louisiana, Washington    117000.0  117000.000000    117000.0\n",
      "22                           Maine     50000.0  103833.333333    173000.0\n",
      "23                        Maryland     62000.0  119955.461538    176000.0\n",
      "24                   Massachusetts     41000.0  125899.155844    400000.0\n",
      "25                        Michigan     41600.0   95758.823529    235000.0\n",
      "26     Michigan, Texas, Washington    340000.0  340000.000000    340000.0\n",
      "27                       Minnesota     52124.0  101064.941176    210000.0\n",
      "28                        Missouri        80.0   80339.923077    200000.0\n",
      "29                         Montana     65000.0  112666.666667    145000.0\n",
      "30                        Nebraska     43000.0   76736.000000    140000.0\n",
      "31                          Nevada    107100.0  124550.000000    142000.0\n",
      "32                   New Hampshire        55.0   87175.833333    130000.0\n",
      "33                      New Jersey     67500.0  124090.909091    192000.0\n",
      "34            New Jersey, New York    135000.0  137500.000000    140000.0\n",
      "35                      New Mexico     82000.0   95733.333333    115200.0\n",
      "36                        New York     14000.0  146594.112150    590000.0\n",
      "37                  North Carolina     29000.0   97841.666667    165000.0\n",
      "38                            Ohio     42000.0  137066.666667    954000.0\n",
      "39                        Oklahoma     36958.0   84802.571429    180000.0\n",
      "40                          Oregon     16200.0  122640.000000    230000.0\n",
      "41                    Pennsylvania     52000.0  116826.388889    237000.0\n",
      "42                    Rhode Island     76000.0   99475.000000    122950.0\n",
      "43                  South Carolina     40000.0   40000.000000     40000.0\n",
      "44                       Tennessee     61500.0   91750.000000    144000.0\n",
      "45                           Texas     10700.0  103685.245902    190000.0\n",
      "46                            Utah     33280.0  105023.333333    176000.0\n",
      "47                         Vermont     91250.0  105625.000000    120000.0\n",
      "48                        Virginia     58750.0  115086.696970    378000.0\n",
      "49                      Washington        72.0  136923.916667    300000.0\n",
      "50                   West Virginia    120000.0  120000.000000    120000.0\n",
      "51                       Wisconsin         1.0  145806.888889    920000.0\n"
     ]
    }
   ],
   "source": [
    "# Find the minimum, mean, and maximum salary in USD by U.S. state.\n",
    "\n",
    "# Remove unwanted characters from the 'salary' column using regex\n",
    "df_salary_tech_usd.loc[:, 'salary'] = df_salary_tech_usd['salary'].replace({'$': '', ',': ''}, regex=True)\n",
    "\n",
    "# Convert the 'salary' column to numeric\n",
    "df_salary_tech_usd.loc[:, 'salary'] = pd.to_numeric(df_salary_tech_usd['salary'], errors='coerce')\n",
    "\n",
    "# Drop rows where 'salary' is NaN \n",
    "df_salary_tech_usd_clean = df_salary_tech_usd.dropna(subset=['salary'])\n",
    "\n",
    "# Group by 'state' and calculate min, mean, and max salary\n",
    "salary_stats = df_salary_tech_usd_clean.groupby('state')['salary'].agg(['min', 'mean', 'max']).reset_index()\n",
    "\n",
    "salary_stats.columns = ['state', 'min_salary', 'mean_salary', 'max_salary']\n",
    "\n",
    "print(salary_stats)"
   ]
  },
  {
   "cell_type": "markdown",
   "metadata": {},
   "source": [
    "Well, pooh! We forgot that `salary` isn’t numeric. Something wrong must be fixed."
   ]
  },
  {
   "cell_type": "code",
   "execution_count": null,
   "metadata": {},
   "outputs": [],
   "source": [
    "# Fix it.\n",
    "\n",
    "# I fixed it in previous section\n",
    "print(salary_stats)"
   ]
  },
  {
   "cell_type": "markdown",
   "metadata": {},
   "source": [
    "Let’s try that again."
   ]
  },
  {
   "cell_type": "code",
   "execution_count": null,
   "metadata": {},
   "outputs": [],
   "source": [
    "# Try it again. Yeah!\n",
    "\n",
    "# Also fixed above\n",
    "print(salary_stats)"
   ]
  },
  {
   "cell_type": "markdown",
   "metadata": {},
   "source": [
    "That did the trick! Now let’s narrow this to data 2021 and 2022 just because (lel). *(Hint: that timestamp column may not be a temporal type right now.)*"
   ]
  },
  {
   "cell_type": "code",
   "execution_count": 62,
   "metadata": {},
   "outputs": [
    {
     "name": "stdout",
     "output_type": "stream",
     "text": [
      "                             state  min_salary    mean_salary  max_salary\n",
      "0                          Alabama     52000.0  138000.000000    350000.0\n",
      "1                          Arizona     35000.0   97833.333333    145000.0\n",
      "2                         Arkansas     60000.0   77333.333333     95000.0\n",
      "3                       California         0.0  153754.893258    520000.0\n",
      "4             California, Colorado    176000.0  176000.000000    176000.0\n",
      "5             California, Maryland     81500.0   81500.000000     81500.0\n",
      "6               California, Oregon    200000.0  200000.000000    200000.0\n",
      "7                         Colorado     49400.0  109291.891892    165000.0\n",
      "8                      Connecticut     68000.0  161610.000000    270000.0\n",
      "9                         Delaware    169000.0  169000.000000    169000.0\n",
      "10            District of Columbia     59000.0  142923.076923    200000.0\n",
      "11  District of Columbia, Virginia    109200.0  109200.000000    109200.0\n",
      "12                         Florida     28800.0  102106.954545    170000.0\n",
      "13                         Georgia     29120.0  115488.484848    242000.0\n",
      "14                           Idaho     74860.0  105465.000000    170000.0\n",
      "15                        Illinois     36000.0  119248.382353    228800.0\n",
      "16                         Indiana     15000.0   82875.000000    140000.0\n",
      "17                            Iowa     63000.0  101200.000000    142000.0\n",
      "18                          Kansas     41500.0  109666.666667    167000.0\n",
      "19                        Kentucky     62000.0  102500.000000    125000.0\n",
      "20                       Louisiana     75000.0   80500.000000     84000.0\n",
      "21           Louisiana, Washington    117000.0  117000.000000    117000.0\n",
      "22                           Maine     50000.0  103833.333333    173000.0\n",
      "23                        Maryland     62000.0  119955.461538    176000.0\n",
      "24                   Massachusetts     41000.0  125660.986842    400000.0\n",
      "25                        Michigan     41600.0   95758.823529    235000.0\n",
      "26     Michigan, Texas, Washington    340000.0  340000.000000    340000.0\n",
      "27                       Minnesota     52124.0  102381.500000    210000.0\n",
      "28                        Missouri        80.0   80339.923077    200000.0\n",
      "29                         Montana     65000.0  112666.666667    145000.0\n",
      "30                        Nebraska     43000.0   76736.000000    140000.0\n",
      "31                          Nevada    107100.0  124550.000000    142000.0\n",
      "32                   New Hampshire        55.0   87175.833333    130000.0\n",
      "33                      New Jersey     67500.0  124090.909091    192000.0\n",
      "34            New Jersey, New York    135000.0  137500.000000    140000.0\n",
      "35                      New Mexico     82000.0   95733.333333    115200.0\n",
      "36                        New York     14000.0  146594.112150    590000.0\n",
      "37                  North Carolina     29000.0   97250.000000    165000.0\n",
      "38                            Ohio     42000.0  137066.666667    954000.0\n",
      "39                        Oklahoma     36958.0   84802.571429    180000.0\n",
      "40                          Oregon     16200.0  122640.000000    230000.0\n",
      "41                    Pennsylvania     52000.0  116826.388889    237000.0\n",
      "42                    Rhode Island     76000.0   99475.000000    122950.0\n",
      "43                       Tennessee     61500.0   91750.000000    144000.0\n",
      "44                           Texas     10700.0  103685.245902    190000.0\n",
      "45                            Utah     33280.0  105023.333333    176000.0\n",
      "46                         Vermont     91250.0  105625.000000    120000.0\n",
      "47                        Virginia     58750.0  115086.696970    378000.0\n",
      "48                      Washington        72.0  137427.774648    300000.0\n",
      "49                   West Virginia    120000.0  120000.000000    120000.0\n",
      "50                       Wisconsin         1.0  145806.888889    920000.0\n"
     ]
    }
   ],
   "source": [
    "# Filter the data to within 2021, 2022, or 2023, saving the DataFrame to a new variable, and generate the summary again.\n",
    "\n",
    "# Convert 'timestamp' column to datetime using .loc to avoid SettingWithCopyWarning\n",
    "df_salary_tech_usd.loc[:, 'timestamp'] = pd.to_datetime(df_salary_tech_usd['timestamp'])\n",
    "\n",
    "# Extract year from the 'timestamp' column\n",
    "df_salary_tech_usd.loc[:, 'year'] = df_salary_tech_usd['timestamp'].dt.year\n",
    "\n",
    "# Filter data to only include rows from 2021, 2022, or 2023\n",
    "df_filtered = df_salary_tech_usd[df_salary_tech_usd['year'].isin([2021, 2022, 2023])]\n",
    "\n",
    "# Remove unwanted characters from the 'salary' column\n",
    "df_filtered.loc[:, 'salary'] = df_filtered['salary'].replace({'$': '', ',': ''}, regex=True)\n",
    "\n",
    "# Convert the 'salary' column to numeric\n",
    "df_filtered.loc[:, 'salary'] = pd.to_numeric(df_filtered['salary'], errors='coerce')\n",
    "\n",
    "# Drop rows where 'salary' is NaN \n",
    "df_filtered_clean = df_filtered.dropna(subset=['salary'])\n",
    "\n",
    "# Group by 'state' and calculate min, mean, and max salary\n",
    "salary_stats_filtered = df_filtered_clean.groupby('state')['salary'].agg(['min', 'mean', 'max']).reset_index()\n",
    "\n",
    "# Renamed cols\n",
    "salary_stats_filtered.columns = ['state', 'min_salary', 'mean_salary', 'max_salary']\n",
    "\n",
    "print(salary_stats_filtered)"
   ]
  },
  {
   "cell_type": "markdown",
   "metadata": {},
   "source": [
    "## Bonus\n",
    "\n",
    "Clearly, we do not have enough data to produce useful figures for the level of specificity you’ve now reached. What do you notice about Delaware and West Virginia?\n",
    "\n",
    "Let’s back out a bit and return to `df_salary` (which was the loaded data with renamed columns but *sans* filtering)."
   ]
  },
  {
   "cell_type": "markdown",
   "metadata": {},
   "source": [
    "### Bonus #0\n",
    "\n",
    "Apply the same steps as before to `df_salary`, but do not filter for any specific industry. Do perform the other data cleaning stuff, and get to a point where you can generate the minimum, mean, and maximum by state."
   ]
  },
  {
   "cell_type": "code",
   "execution_count": null,
   "metadata": {},
   "outputs": [],
   "source": []
  },
  {
   "cell_type": "markdown",
   "metadata": {},
   "source": [
    "### Bonus #1\n",
    "\n",
    "This time, format the table output nicely (*$12,345.00*) without modifying the values in the `DataFrame`. That is, `df_salary` should be identical before versus after running your code.\n",
    "\n",
    "(*Hint: if you run into an error about `jinja2` perhaps you need to `pip install` something.*)"
   ]
  },
  {
   "cell_type": "code",
   "execution_count": null,
   "metadata": {},
   "outputs": [],
   "source": []
  },
  {
   "cell_type": "markdown",
   "metadata": {},
   "source": [
    "### Bonus #2\n",
    "\n",
    "Filter out the non-single-states (e.g., `'California, Colorado'`) in the most elegant way possible (i.e., *not* by blacklisting all the bad values)."
   ]
  },
  {
   "cell_type": "code",
   "execution_count": null,
   "metadata": {},
   "outputs": [],
   "source": []
  },
  {
   "cell_type": "markdown",
   "metadata": {},
   "source": [
    "### Bonus #3\n",
    "\n",
    "Show the quantiles instead of just minimum, mean, and maximum―say 0%, 5%, 25%, 50%, 75%, 95%, and 100%. Outliers may be deceiving.\n",
    "\n",
    "Sort by whatever interests you―like say the *50th* percentile.\n",
    "\n",
    "And throw in a count by state too. It would be interesting to know how many data points contribute to the figures for each state. (*Hint: your nice formatting from Bonus #1 might not work this time around.* 😜)"
   ]
  },
  {
   "cell_type": "code",
   "execution_count": null,
   "metadata": {},
   "outputs": [],
   "source": []
  }
 ],
 "metadata": {
  "kernelspec": {
   "display_name": "Python 3",
   "language": "python",
   "name": "python3"
  },
  "language_info": {
   "codemirror_mode": {
    "name": "ipython",
    "version": 3
   },
   "file_extension": ".py",
   "mimetype": "text/x-python",
   "name": "python",
   "nbconvert_exporter": "python",
   "pygments_lexer": "ipython3",
   "version": "3.12.4"
  }
 },
 "nbformat": 4,
 "nbformat_minor": 2
}
